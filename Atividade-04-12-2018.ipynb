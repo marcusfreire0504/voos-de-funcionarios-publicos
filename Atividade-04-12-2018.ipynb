{
 "cells": [
  {
   "cell_type": "code",
   "execution_count": 2,
   "metadata": {},
   "outputs": [],
   "source": [
    "import pandas as pd\n",
    "import seaborn as sns"
   ]
  },
  {
   "cell_type": "code",
   "execution_count": 3,
   "metadata": {},
   "outputs": [
    {
     "data": {
      "text/html": [
       "<div>\n",
       "<style scoped>\n",
       "    .dataframe tbody tr th:only-of-type {\n",
       "        vertical-align: middle;\n",
       "    }\n",
       "\n",
       "    .dataframe tbody tr th {\n",
       "        vertical-align: top;\n",
       "    }\n",
       "\n",
       "    .dataframe thead th {\n",
       "        text-align: right;\n",
       "    }\n",
       "</style>\n",
       "<table border=\"1\" class=\"dataframe\">\n",
       "  <thead>\n",
       "    <tr style=\"text-align: right;\">\n",
       "      <th></th>\n",
       "      <th>Código do órgão superior</th>\n",
       "      <th>Nome do órgão superior</th>\n",
       "      <th>Código do órgão solicitante da viagem</th>\n",
       "      <th>Nome do órgão solicitante da viagem</th>\n",
       "      <th>N. PCDP</th>\n",
       "      <th>N. Reserva/Localizador</th>\n",
       "      <th>Data Emissão Bilhete</th>\n",
       "      <th>Data Embarque</th>\n",
       "      <th>Valor Tarifa Comercial</th>\n",
       "      <th>Percentual Desconto Aplicado</th>\n",
       "      <th>...</th>\n",
       "      <th>Companhia Aérea</th>\n",
       "      <th>Classe Tarifária Bilhete</th>\n",
       "      <th>Regra Tarifária</th>\n",
       "      <th>No Show</th>\n",
       "      <th>Remarcado</th>\n",
       "      <th>Cancelado</th>\n",
       "      <th>Valor Multas</th>\n",
       "      <th>Valor Reembolso</th>\n",
       "      <th>Diferença de Tarifa</th>\n",
       "      <th>Situação Final Bilhete</th>\n",
       "    </tr>\n",
       "  </thead>\n",
       "  <tbody>\n",
       "    <tr>\n",
       "      <th>0</th>\n",
       "      <td>3</td>\n",
       "      <td>Fundação Instituto Brasileiro de Geografia e ...</td>\n",
       "      <td>3</td>\n",
       "      <td>Fundação Instituto Brasileiro de Geografia e ...</td>\n",
       "      <td>028012/17</td>\n",
       "      <td>JGZQXC</td>\n",
       "      <td>2017-10-03 11:33:35.808</td>\n",
       "      <td>2017-10-06 20:55:00</td>\n",
       "      <td>407.4</td>\n",
       "      <td>0.0</td>\n",
       "      <td>...</td>\n",
       "      <td>LATAM AIRLINES BRASIL</td>\n",
       "      <td>N</td>\n",
       "      <td>http://t.umail.com.br/ClickHere/ViewEmail.asp...</td>\n",
       "      <td>Não</td>\n",
       "      <td>Não</td>\n",
       "      <td>Não</td>\n",
       "      <td>0.0</td>\n",
       "      <td>0.0</td>\n",
       "      <td>0.0</td>\n",
       "      <td>Voado</td>\n",
       "    </tr>\n",
       "    <tr>\n",
       "      <th>1</th>\n",
       "      <td>3</td>\n",
       "      <td>Fundação Instituto Brasileiro de Geografia e ...</td>\n",
       "      <td>3</td>\n",
       "      <td>Fundação Instituto Brasileiro de Geografia e ...</td>\n",
       "      <td>028012/17</td>\n",
       "      <td>JHH5FW</td>\n",
       "      <td>2017-10-03 11:33:37.149</td>\n",
       "      <td>2017-10-04 15:00:00</td>\n",
       "      <td>229.0</td>\n",
       "      <td>3.0</td>\n",
       "      <td>...</td>\n",
       "      <td>AVIANCA S.A.</td>\n",
       "      <td>Z</td>\n",
       "      <td>https://www.avianca.com.br/regras-de-tarifas ...</td>\n",
       "      <td>Não</td>\n",
       "      <td>Não</td>\n",
       "      <td>Não</td>\n",
       "      <td>0.0</td>\n",
       "      <td>0.0</td>\n",
       "      <td>0.0</td>\n",
       "      <td>Voado</td>\n",
       "    </tr>\n",
       "    <tr>\n",
       "      <th>2</th>\n",
       "      <td>3</td>\n",
       "      <td>Fundação Instituto Brasileiro de Geografia e ...</td>\n",
       "      <td>3</td>\n",
       "      <td>Fundação Instituto Brasileiro de Geografia e ...</td>\n",
       "      <td>030294/17</td>\n",
       "      <td>GIKVKJ</td>\n",
       "      <td>2017-10-16 16:12:52.327</td>\n",
       "      <td>2017-10-26 11:40:00</td>\n",
       "      <td>1111.9</td>\n",
       "      <td>0.0</td>\n",
       "      <td>...</td>\n",
       "      <td>GOL Linhas Aéreas Inteligentes</td>\n",
       "      <td>J</td>\n",
       "      <td>https://www.voegol.com.br/pt/informacoes/tari...</td>\n",
       "      <td>Não</td>\n",
       "      <td>Não</td>\n",
       "      <td>Não</td>\n",
       "      <td>0.0</td>\n",
       "      <td>0.0</td>\n",
       "      <td>0.0</td>\n",
       "      <td>Andamento</td>\n",
       "    </tr>\n",
       "    <tr>\n",
       "      <th>3</th>\n",
       "      <td>3</td>\n",
       "      <td>Fundação Instituto Brasileiro de Geografia e ...</td>\n",
       "      <td>3</td>\n",
       "      <td>Fundação Instituto Brasileiro de Geografia e ...</td>\n",
       "      <td>030294/17</td>\n",
       "      <td>HMHR3K</td>\n",
       "      <td>2017-10-16 16:12:58.196</td>\n",
       "      <td>2017-10-23 11:15:00</td>\n",
       "      <td>1015.9</td>\n",
       "      <td>0.0</td>\n",
       "      <td>...</td>\n",
       "      <td>GOL Linhas Aéreas Inteligentes</td>\n",
       "      <td>W</td>\n",
       "      <td>https://www.voegol.com.br/pt/informacoes/tari...</td>\n",
       "      <td>Não</td>\n",
       "      <td>Não</td>\n",
       "      <td>Não</td>\n",
       "      <td>0.0</td>\n",
       "      <td>0.0</td>\n",
       "      <td>0.0</td>\n",
       "      <td>Voado</td>\n",
       "    </tr>\n",
       "    <tr>\n",
       "      <th>4</th>\n",
       "      <td>3</td>\n",
       "      <td>Fundação Instituto Brasileiro de Geografia e ...</td>\n",
       "      <td>3</td>\n",
       "      <td>Fundação Instituto Brasileiro de Geografia e ...</td>\n",
       "      <td>032694/17</td>\n",
       "      <td>LQF4YR</td>\n",
       "      <td>2017-10-31 13:36:19.009</td>\n",
       "      <td>2017-11-20 18:35:00</td>\n",
       "      <td>185.9</td>\n",
       "      <td>3.0</td>\n",
       "      <td>...</td>\n",
       "      <td>GOL Linhas Aéreas Inteligentes</td>\n",
       "      <td>U</td>\n",
       "      <td>https://www.voegol.com.br/pt/informacoes/tari...</td>\n",
       "      <td>Não</td>\n",
       "      <td>Não</td>\n",
       "      <td>Não</td>\n",
       "      <td>0.0</td>\n",
       "      <td>0.0</td>\n",
       "      <td>0.0</td>\n",
       "      <td>Andamento</td>\n",
       "    </tr>\n",
       "  </tbody>\n",
       "</table>\n",
       "<p>5 rows × 23 columns</p>\n",
       "</div>"
      ],
      "text/plain": [
       "    Código do órgão superior  \\\n",
       "0                          3   \n",
       "1                          3   \n",
       "2                          3   \n",
       "3                          3   \n",
       "4                          3   \n",
       "\n",
       "                                 Nome do órgão superior                                  \\\n",
       "0   Fundação Instituto Brasileiro de Geografia e ...                                      \n",
       "1   Fundação Instituto Brasileiro de Geografia e ...                                      \n",
       "2   Fundação Instituto Brasileiro de Geografia e ...                                      \n",
       "3   Fundação Instituto Brasileiro de Geografia e ...                                      \n",
       "4   Fundação Instituto Brasileiro de Geografia e ...                                      \n",
       "\n",
       "    Código do órgão solicitante da viagem  \\\n",
       "0                                       3   \n",
       "1                                       3   \n",
       "2                                       3   \n",
       "3                                       3   \n",
       "4                                       3   \n",
       "\n",
       "                                        Nome do órgão solicitante da viagem                                         \\\n",
       "0   Fundação Instituto Brasileiro de Geografia e ...                                                                 \n",
       "1   Fundação Instituto Brasileiro de Geografia e ...                                                                 \n",
       "2   Fundação Instituto Brasileiro de Geografia e ...                                                                 \n",
       "3   Fundação Instituto Brasileiro de Geografia e ...                                                                 \n",
       "4   Fundação Instituto Brasileiro de Geografia e ...                                                                 \n",
       "\n",
       "       N. PCDP        N. Reserva/Localizador   Data Emissão Bilhete     \\\n",
       "0   028012/17        JGZQXC                    2017-10-03 11:33:35.808   \n",
       "1   028012/17        JHH5FW                    2017-10-03 11:33:37.149   \n",
       "2   030294/17        GIKVKJ                    2017-10-16 16:12:52.327   \n",
       "3   030294/17        HMHR3K                    2017-10-16 16:12:58.196   \n",
       "4   032694/17        LQF4YR                    2017-10-31 13:36:19.009   \n",
       "\n",
       "      Data Embarque       Valor Tarifa Comercial  \\\n",
       "0   2017-10-06 20:55:00                    407.4   \n",
       "1   2017-10-04 15:00:00                    229.0   \n",
       "2   2017-10-26 11:40:00                   1111.9   \n",
       "3   2017-10-23 11:15:00                   1015.9   \n",
       "4   2017-11-20 18:35:00                    185.9   \n",
       "\n",
       "    Percentual Desconto Aplicado           ...             \\\n",
       "0                            0.0           ...              \n",
       "1                            3.0           ...              \n",
       "2                            0.0           ...              \n",
       "3                            0.0           ...              \n",
       "4                            3.0           ...              \n",
       "\n",
       "              Companhia Aérea                Classe Tarifária Bilhete  \\\n",
       "0   LATAM AIRLINES BRASIL                   N                           \n",
       "1   AVIANCA S.A.                            Z                           \n",
       "2   GOL Linhas Aéreas Inteligentes          J                           \n",
       "3   GOL Linhas Aéreas Inteligentes          W                           \n",
       "4   GOL Linhas Aéreas Inteligentes          U                           \n",
       "\n",
       "                                          Regra Tarifária                                         \\\n",
       "0   http://t.umail.com.br/ClickHere/ViewEmail.asp...                                               \n",
       "1   https://www.avianca.com.br/regras-de-tarifas ...                                               \n",
       "2   https://www.voegol.com.br/pt/informacoes/tari...                                               \n",
       "3   https://www.voegol.com.br/pt/informacoes/tari...                                               \n",
       "4   https://www.voegol.com.br/pt/informacoes/tari...                                               \n",
       "\n",
       "     No Show    Remarcado    Cancelado  Valor Multas  Valor Reembolso  \\\n",
       "0   Não        Não          Não                  0.0              0.0   \n",
       "1   Não        Não          Não                  0.0              0.0   \n",
       "2   Não        Não          Não                  0.0              0.0   \n",
       "3   Não        Não          Não                  0.0              0.0   \n",
       "4   Não        Não          Não                  0.0              0.0   \n",
       "\n",
       "   Diferença de Tarifa   Situação Final Bilhete  \n",
       "0                  0.0                    Voado  \n",
       "1                  0.0                    Voado  \n",
       "2                  0.0                Andamento  \n",
       "3                  0.0                    Voado  \n",
       "4                  0.0                Andamento  \n",
       "\n",
       "[5 rows x 23 columns]"
      ]
     },
     "execution_count": 3,
     "metadata": {},
     "output_type": "execute_result"
    }
   ],
   "source": [
    "#Carregando base de dados\n",
    "df = pd.read_excel('201710_EmissaoPassagens_SCDP.xlsx', skiprows=3, skip_footer=3, encoding='latin1')\n",
    "#Expondo dos dados importados\n",
    "df.head()"
   ]
  },
  {
   "cell_type": "code",
   "execution_count": 4,
   "metadata": {},
   "outputs": [],
   "source": [
    "# Removendo espaços do nome das colunas\n",
    "df.columns = df.columns.str.strip()"
   ]
  },
  {
   "cell_type": "code",
   "execution_count": 5,
   "metadata": {},
   "outputs": [
    {
     "data": {
      "text/plain": [
       "Código do órgão superior                   int64\n",
       "Nome do órgão superior                    object\n",
       "Código do órgão solicitante da viagem      int64\n",
       "Nome do órgão solicitante da viagem       object\n",
       "N. PCDP                                   object\n",
       "N. Reserva/Localizador                    object\n",
       "Data Emissão Bilhete                      object\n",
       "Data Embarque                             object\n",
       "Valor Tarifa Comercial                   float64\n",
       "Percentual Desconto Aplicado             float64\n",
       "Valor Tarifa Governo                     float64\n",
       "Valor Tarifa Embarque                    float64\n",
       "Valor Bilhete                            float64\n",
       "Companhia Aérea                           object\n",
       "Classe Tarifária Bilhete                  object\n",
       "Regra Tarifária                           object\n",
       "No Show                                   object\n",
       "Remarcado                                 object\n",
       "Cancelado                                 object\n",
       "Valor Multas                             float64\n",
       "Valor Reembolso                          float64\n",
       "Diferença de Tarifa                      float64\n",
       "Situação Final Bilhete                    object\n",
       "dtype: object"
      ]
     },
     "execution_count": 5,
     "metadata": {},
     "output_type": "execute_result"
    }
   ],
   "source": [
    "df.dtypes"
   ]
  },
  {
   "cell_type": "code",
   "execution_count": null,
   "metadata": {},
   "outputs": [],
   "source": []
  },
  {
   "cell_type": "code",
   "execution_count": 6,
   "metadata": {},
   "outputs": [],
   "source": [
    "#Criando nova coluna para facilitar calculos\n",
    "df['count'] = 1"
   ]
  },
  {
   "cell_type": "code",
   "execution_count": 7,
   "metadata": {},
   "outputs": [
    {
     "data": {
      "text/plain": [
       "Nome do órgão superior\n",
       " Advocacia-Geral da União                                                                 532\n",
       " Agência Nacional de Aviação Civil                                                       1005\n",
       " Agência Nacional de Energia Elétrica                                                     156\n",
       " Agência Nacional de Saúde Suplementar                                                    192\n",
       " Agência Nacional de Telecomunicações                                                     250\n",
       " Agência Nacional de Transportes Aquaviários                                               80\n",
       " Agência Nacional de Transportes Terrestres                                               312\n",
       " Agência Nacional de Vigilância Sanitária                                                 542\n",
       " Agência Nacional do Cinema                                                                80\n",
       " Agência Nacional do Petróleo, Gás Natural e Biocombustíveis                              301\n",
       " Caixa de Financiamento Imobiliário da Aeronáutica                                          6\n",
       " Casa Civil da Presidência da República                                                   172\n",
       " Centro Federal de Educação Tecnológica de Minas Gerais                                    67\n",
       " Centro Federal de Educação Tecnológica ´Celso Suckow da Fonseca´                          82\n",
       " Colégio Pedro II                                                                          37\n",
       " Comando da Aeronáutica                                                                  1156\n",
       " Comando do Exército                                                                     1315\n",
       " Comissão Nacional de Energia Nuclear                                                     277\n",
       " Comissão de Valores Mobiliários                                                          276\n",
       " Conselho Administrativo de Defesa Econômica                                               17\n",
       " Conselho Nacional de Desenvolvimento Científico e Tecnológico                             11\n",
       " Departamento Nacional de Infra-Estrutura de Transportes                                  649\n",
       " Departamento Nacional de Obras Contra as Secas                                            40\n",
       " Departamento Nacional de Produção Mineral                                                178\n",
       " Departamento de Polícia Federal                                                         2664\n",
       " Departamento de Polícia Rodoviária Federal                                              1600\n",
       " Empresa de Pesquisa Energética                                                             6\n",
       " Empresa de Planejamento e Logística S.A.                                                  42\n",
       " Fundação Casa de Rui Barbosa                                                              12\n",
       " Fundação Cultural Palmares                                                                55\n",
       "                                                                                         ... \n",
       " Universidade Federal de Alfenas                                                           45\n",
       " Universidade Federal de Campina Grande                                                   142\n",
       " Universidade Federal de Goiás                                                            417\n",
       " Universidade Federal de Itajubá                                                           55\n",
       " Universidade Federal de Juiz de Fora                                                     448\n",
       " Universidade Federal de Lavras                                                            24\n",
       " Universidade Federal de Minas Gerais                                                     101\n",
       " Universidade Federal de Pernambuco                                                       279\n",
       " Universidade Federal de Santa Catarina                                                   183\n",
       " Universidade Federal de Santa Maria                                                      190\n",
       " Universidade Federal de São Paulo                                                         92\n",
       " Universidade Federal de Uberlândia                                                       663\n",
       " Universidade Federal do Cariri                                                            90\n",
       " Universidade Federal do Ceará                                                            191\n",
       " Universidade Federal do Espírito Santo                                                   196\n",
       " Universidade Federal do Estado do Rio de Janeiro                                         109\n",
       " Universidade Federal do Oeste da Bahia                                                    94\n",
       " Universidade Federal do Oeste do Pará                                                    100\n",
       " Universidade Federal do Paraná                                                           373\n",
       " Universidade Federal do Pará                                                             571\n",
       " Universidade Federal do Recôncavo da Bahia                                                24\n",
       " Universidade Federal do Rio Grande                                                       128\n",
       " Universidade Federal do Rio Grande do Sul                                                257\n",
       " Universidade Federal do Rio de Janeiro                                                   329\n",
       " Universidade Federal do Sul da Bahia                                                      63\n",
       " Universidade Federal do Sul e Sudeste do Pará                                             59\n",
       " Universidade Federal do Triângulo Mineiro                                                 19\n",
       " Universidade Federal dos Vales do Jequitinhonha e Mucuri                                  48\n",
       " Universidade Tecnológica Federal do Paraná                                               255\n",
       " Universidade da Integração Internacional da Lusofonia Afro-Brasileira-UNILAB              43\n",
       "Name: count, Length: 180, dtype: int64"
      ]
     },
     "execution_count": 7,
     "metadata": {},
     "output_type": "execute_result"
    }
   ],
   "source": [
    "# Quantidade de passagens solicitadas, dividido por Nome do órgão superior\n",
    "df.groupby('Nome do órgão superior')['count'].sum()"
   ]
  },
  {
   "cell_type": "code",
   "execution_count": 8,
   "metadata": {},
   "outputs": [
    {
     "data": {
      "text/plain": [
       "50405"
      ]
     },
     "execution_count": 8,
     "metadata": {},
     "output_type": "execute_result"
    }
   ],
   "source": [
    "# Quantidade de solicitações de passagem\n",
    "df['count'].sum()"
   ]
  },
  {
   "cell_type": "code",
   "execution_count": 9,
   "metadata": {},
   "outputs": [
    {
     "data": {
      "text/plain": [
       "array([' Fundação Instituto Brasileiro de Geografia e Estatística                                                       ',\n",
       "       ' Diretoria de Informática                                                                                       ',\n",
       "       ' Diretoria de Geociências                                                                                       ',\n",
       "       ...,\n",
       "       ' Secretaria-Geral da Presidência da República                                                                   ',\n",
       "       ' Secretaria Especial de Assuntos Estratégicos                                                                   ',\n",
       "       ' Diretoria de Recursos Logísticos                                                                               '],\n",
       "      dtype=object)"
      ]
     },
     "execution_count": 9,
     "metadata": {},
     "output_type": "execute_result"
    }
   ],
   "source": [
    "# Órgãos que solicitaram as viagens\n",
    "df['Nome do órgão solicitante da viagem'].unique()"
   ]
  },
  {
   "cell_type": "code",
   "execution_count": 10,
   "metadata": {},
   "outputs": [
    {
     "data": {
      "text/plain": [
       "<matplotlib.axes._subplots.AxesSubplot at 0xadf4e10>"
      ]
     },
     "execution_count": 10,
     "metadata": {},
     "output_type": "execute_result"
    },
    {
     "data": {
      "image/png": "[encoded data removed]",
      "text/plain": [
       "<matplotlib.figure.Figure at 0xadf44e0>"
      ]
     },
     "metadata": {},
     "output_type": "display_data"
    }
   ],
   "source": [
    "# Gráfico com quantidade de vôos separados por Situação funal do Bilhete\n",
    "sns.countplot(x='Situação Final Bilhete', data=df)"
   ]
  },
  {
   "cell_type": "code",
   "execution_count": 11,
   "metadata": {},
   "outputs": [
    {
     "data": {
      "text/plain": [
       "Companhia Aérea\n",
       " AVIANCA S.A.                              9028\n",
       " AZUL LINHAS AÉREAS BRASILEIRA            10967\n",
       " GOL Linhas Aéreas Inteligentes           17568\n",
       " Gol OU Latam - Parceria com Terceiro       267\n",
       " LATAM AIRLINES BRASIL                    12301\n",
       " MAP TRANSPORTES AEREOS LTDA - MAP          274\n",
       "Name: count, dtype: int64"
      ]
     },
     "execution_count": 11,
     "metadata": {},
     "output_type": "execute_result"
    }
   ],
   "source": [
    "# Quantidade de vôos dividido por companhia aérea\n",
    "df.groupby('Companhia Aérea')['count'].sum()"
   ]
  },
  {
   "cell_type": "code",
   "execution_count": 12,
   "metadata": {},
   "outputs": [
    {
     "data": {
      "text/plain": [
       "<matplotlib.axes._subplots.AxesSubplot at 0xe063710>"
      ]
     },
     "execution_count": 12,
     "metadata": {},
     "output_type": "execute_result"
    },
    {
     "data": {
      "image/png": "[encoded data removed]",
      "text/plain": [
       "<matplotlib.figure.Figure at 0xe0497f0>"
      ]
     },
     "metadata": {},
     "output_type": "display_data"
    }
   ],
   "source": [
    "# Gráfico com Quantidade de vôos dividido por companhia aérea\n",
    "sns.countplot(x='Companhia Aérea', data=df)"
   ]
  },
  {
   "cell_type": "code",
   "execution_count": 14,
   "metadata": {},
   "outputs": [
    {
     "data": {
      "text/plain": [
       "678.2732582082239"
      ]
     },
     "execution_count": 14,
     "metadata": {},
     "output_type": "execute_result"
    }
   ],
   "source": [
    "# Média dos valores de tarifa comercial\n",
    "df['Valor Tarifa Comercial'].mean()"
   ]
  },
  {
   "cell_type": "code",
   "execution_count": 15,
   "metadata": {},
   "outputs": [
    {
     "name": "stdout",
     "output_type": "stream",
     "text": [
      "4156.8\n",
      "0.0\n"
     ]
    }
   ],
   "source": [
    "# Maior e menor valor pago nas passagens, respectivamente\n",
    "print(df['Valor Tarifa Comercial'].max())\n",
    "print(df['Valor Tarifa Comercial'].min())"
   ]
  },
  {
   "cell_type": "code",
   "execution_count": 24,
   "metadata": {},
   "outputs": [
    {
     "name": "stdout",
     "output_type": "stream",
     "text": [
      "100.0\n",
      "-6.64\n"
     ]
    }
   ],
   "source": [
    "# Valores máximo e mínimo do percentual de desconto das passagens, respectivamente\n",
    "print(df['Percentual Desconto Aplicado'].max())\n",
    "print(df['Percentual Desconto Aplicado'].min())"
   ]
  },
  {
   "cell_type": "code",
   "execution_count": 49,
   "metadata": {},
   "outputs": [
    {
     "name": "stdout",
     "output_type": "stream",
     "text": [
      "2249.14\n",
      "14\n"
     ]
    }
   ],
   "source": [
    "# Valor pago em multas seguido da quantidade de multas\n",
    "print(df['Valor Multas'].sum())\n",
    "multas = df[df['Valor Multas'] > 0]\n",
    "print(multas['count'].sum())"
   ]
  },
  {
   "cell_type": "code",
   "execution_count": 50,
   "metadata": {},
   "outputs": [
    {
     "data": {
      "text/plain": [
       "<matplotlib.axes._subplots.AxesSubplot at 0x1429e940>"
      ]
     },
     "execution_count": 50,
     "metadata": {},
     "output_type": "execute_result"
    },
    {
     "data": {
      "image/png": "[encoded data removed]",
      "text/plain": [
       "<matplotlib.figure.Figure at 0x13f212e8>"
      ]
     },
     "metadata": {},
     "output_type": "display_data"
    }
   ],
   "source": [
    "# Histobrama dos valores pagos nos bilhetes\n",
    "sns.distplot(df['Valor Bilhete'])"
   ]
  },
  {
   "cell_type": "code",
   "execution_count": 61,
   "metadata": {},
   "outputs": [
    {
     "data": {
      "text/plain": [
       "Companhia Aérea\n",
       " AVIANCA S.A.                             580.997634\n",
       " AZUL LINHAS AÉREAS BRASILEIRA            731.293923\n",
       " GOL Linhas Aéreas Inteligentes           736.373500\n",
       " Gol OU Latam - Parceria com Terceiro     608.689813\n",
       " LATAM AIRLINES BRASIL                    687.548436\n",
       " MAP TRANSPORTES AEREOS LTDA - MAP        737.946022\n",
       "Name: Valor Bilhete, dtype: float64"
      ]
     },
     "execution_count": 61,
     "metadata": {},
     "output_type": "execute_result"
    }
   ],
   "source": [
    "# Valor médio do bilhete, agrupado por companhia aérea\n",
    "df.groupby('Companhia Aérea')['Valor Bilhete'].mean()"
   ]
  },
  {
   "cell_type": "code",
   "execution_count": 68,
   "metadata": {},
   "outputs": [
    {
     "data": {
      "text/plain": [
       "677843.437311"
      ]
     },
     "execution_count": 68,
     "metadata": {},
     "output_type": "execute_result"
    }
   ],
   "source": [
    "# Valor acumulado com a soma do desconto de todas as passagens.\n",
    "df['des_acumulado'] = df['Valor Bilhete']*(df['Percentual Desconto Aplicado'] / 100)\n",
    "df['des_acumulado'].sum()"
   ]
  },
  {
   "cell_type": "code",
   "execution_count": 69,
   "metadata": {},
   "outputs": [
    {
     "data": {
      "text/plain": [
       "35024207.44"
      ]
     },
     "execution_count": 69,
     "metadata": {},
     "output_type": "execute_result"
    }
   ],
   "source": [
    "# Total gasto com bilhetes\n",
    "df['Valor Bilhete'].sum()"
   ]
  },
  {
   "cell_type": "code",
   "execution_count": 66,
   "metadata": {},
   "outputs": [
    {
     "data": {
      "text/plain": [
       "<matplotlib.axes._subplots.AxesSubplot at 0x14fcb4a8>"
      ]
     },
     "execution_count": 66,
     "metadata": {},
     "output_type": "execute_result"
    },
    {
     "data": {
      "image/png": "[encoded data removed]",
      "text/plain": [
       "<matplotlib.figure.Figure at 0x14d05208>"
      ]
     },
     "metadata": {},
     "output_type": "display_data"
    }
   ],
   "source": [
    "# situação final do bilhete agrupado por companhia aérea\n",
    "sns.countplot(x='Companhia Aérea', hue='Situação Final Bilhete', data=df)"
   ]
  },
  {
   "cell_type": "code",
   "execution_count": 72,
   "metadata": {},
   "outputs": [
    {
     "data": {
      "text/plain": [
       "2249.14"
      ]
     },
     "execution_count": 72,
     "metadata": {},
     "output_type": "execute_result"
    }
   ],
   "source": [
    "# Valor total em multas\n",
    "df['Valor Multas'].sum()"
   ]
  }
 ],
 "metadata": {
  "kernelspec": {
   "display_name": "Python 3",
   "language": "python",
   "name": "python3"
  }
 },
 "nbformat": 4,
 "nbformat_minor": 2
}
